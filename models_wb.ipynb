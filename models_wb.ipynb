{
 "cells": [
  {
   "cell_type": "markdown",
   "id": "19dc49c1",
   "metadata": {},
   "source": [
    "## Предобработка"
   ]
  },
  {
   "cell_type": "code",
   "execution_count": 181,
   "id": "5acd0c86",
   "metadata": {},
   "outputs": [],
   "source": [
    "import pandas as pd\n",
    "import numpy as np\n",
    "import matplotlib.pyplot as plt\n",
    "import seaborn as sns\n",
    "from sklearn.model_selection import train_test_split\n",
    "from sklearn.preprocessing import OneHotEncoder\n",
    "from sklearn.compose import ColumnTransformer\n",
    "from catboost import CatBoostRegressor, CatBoostClassifier\n",
    "import optuna\n",
    "optuna.logging.set_verbosity(optuna.logging.WARNING)\n",
    "from sklearn.ensemble import RandomForestRegressor, RandomForestClassifier\n",
    "from sklearn.preprocessing import StandardScaler\n",
    "\n",
    "from sklearn.metrics import roc_auc_score, average_precision_score, accuracy_score\n",
    "from imblearn.over_sampling import BorderlineSMOTE"
   ]
  },
  {
   "cell_type": "code",
   "execution_count": 159,
   "id": "1174ec1c",
   "metadata": {},
   "outputs": [],
   "source": [
    "df = pd.read_csv('final_df.csv')"
   ]
  },
  {
   "cell_type": "code",
   "execution_count": 160,
   "id": "7e63f3ea",
   "metadata": {},
   "outputs": [],
   "source": [
    "df.loc[df['country'].isna(), 'country'] = 'Китай'\n",
    "df.loc[~df['country'].isin(['Китай', 'Россия','Гонконг', 'Беларусь']), 'country'] = 'Другое'\n",
    "\n",
    "pvh = []\n",
    "for el in df['material']:\n",
    "    if ('ПВХ' in el) or ('пвх' in el):\n",
    "        pvh.append(1)\n",
    "    else:\n",
    "        pvh.append(0)\n",
    "df['has_pvh'] = pvh\n",
    "\n",
    "type_other = ['Игрушки-подвески', 'Магнитные доски', 'Пушкары', 'Рамки-вкладыши', 'Детские компьютеры',             \n",
    "              'Домики для детей', 'Игрушечные гаражи', 'Лабиринты', 'Прыгунки', 'Пазлы', 'Сквиши']\n",
    "df.loc[df['type'].isin(type_other), 'type'] = 'Другое'\n",
    "\n",
    "df.loc[df['color'].isna(), 'color'] = 'Неизвестно'\n",
    "df['color'] = df['color'].apply(lambda x: x.split(', ')[0])\n",
    "df['color'] = df['color'].apply(lambda x: x.split('-')[-1])\n",
    "df['color'] = df['color'].apply(lambda x: x.split()[0])\n",
    "color_other = df['color'].value_counts().index[26:]\n",
    "df.loc[df['color'].isin(color_other), 'color'] = 'Другое'\n",
    "\n",
    "popular_brands = df['brand'].value_counts().index[:4]\n",
    "df['brand_popular'] = df['brand'].isin(popular_brands) * 1\n",
    "df['has_video'] = df['has_video'] * 1\n",
    "\n",
    "df['is_verified'] = df['is_verified'] * 1\n",
    "df['target'] = np.log(df['num_feedbacks']) * df['item_rating']\n",
    "df['price'] = df['price'] / 100\n",
    "df.drop(columns = ['brand', 'id', 'name', 'description', 'material', 'equipment',\n",
    "                   'item_rating', 'img', 'num_feedbacks'], inplace = True)"
   ]
  },
  {
   "cell_type": "code",
   "execution_count": 161,
   "id": "a346ae0b",
   "metadata": {},
   "outputs": [],
   "source": [
    "X = df.drop(columns = 'target')\n",
    "y = df['target']\n",
    "X_train, X_other, y_train, y_other = train_test_split(X, y, test_size = 0.3, random_state = 52)\n",
    "X_val, X_test, y_val, y_test = train_test_split(X_other, y_other, test_size = 0.66, random_state = 52)"
   ]
  },
  {
   "cell_type": "code",
   "execution_count": 162,
   "id": "96addea2",
   "metadata": {},
   "outputs": [],
   "source": [
    "feature_cat = ['type', 'color', 'country', 'cluster']\n",
    "feature_num = ['photo_count', 'supplier_rating', 'quantity', \n",
    "               'price', 'text_length', 'sentiment', 'rating']\n",
    "\n",
    "encoder = OneHotEncoder(handle_unknown='ignore', sparse=False)\n",
    "\n",
    "preprocessor = ColumnTransformer(\n",
    "    transformers=[\n",
    "        ('cat', encoder, feature_cat)\n",
    "    ],\n",
    "    remainder='passthrough' \n",
    ")\n",
    "\n",
    "train = preprocessor.fit_transform(X_train)\n",
    "val = preprocessor.transform(X_val)\n",
    "test = preprocessor.transform(X_test)\n",
    "\n",
    "ohe_feature_names = preprocessor.named_transformers_['cat'].get_feature_names_out(feature_cat)\n",
    "\n",
    "all_feature_names = list(ohe_feature_names) + \\\n",
    "    list(X_train.drop(columns=feature_cat).columns)\n",
    "\n",
    "X_train = pd.DataFrame(train, columns=all_feature_names, index=X_train.index)\n",
    "X_val = pd.DataFrame(val, columns=all_feature_names, index=X_val.index)\n",
    "X_test = pd.DataFrame(test, columns=all_feature_names, index=X_test.index)"
   ]
  },
  {
   "cell_type": "markdown",
   "id": "78f30244",
   "metadata": {},
   "source": [
    "## Оценка моделей"
   ]
  },
  {
   "cell_type": "markdown",
   "id": "af97dfef",
   "metadata": {},
   "source": [
    "### Регрессия"
   ]
  },
  {
   "cell_type": "code",
   "execution_count": 7,
   "id": "4f325c10",
   "metadata": {},
   "outputs": [],
   "source": [
    "from sklearn.metrics import mean_absolute_percentage_error"
   ]
  },
  {
   "cell_type": "code",
   "execution_count": 8,
   "id": "cb70bb4f",
   "metadata": {},
   "outputs": [],
   "source": [
    "def get_metrics_regression(true, pred):\n",
    "    mse = ((pred - true) ** 2).mean()\n",
    "    mae = np.abs(pred - true).mean()\n",
    "    mape = mean_absolute_percentage_error(true, pred)\n",
    "    \n",
    "    print(f'MSE: {mse}')\n",
    "    print(f'MAE: {mae}')\n",
    "    print(f'MAPE: {mape}')\n",
    "    return mse, mae, mape"
   ]
  },
  {
   "cell_type": "markdown",
   "id": "438724be",
   "metadata": {},
   "source": [
    "Сначала наивный прогноз в виде среднего"
   ]
  },
  {
   "cell_type": "code",
   "execution_count": 9,
   "id": "e5619f15",
   "metadata": {},
   "outputs": [
    {
     "name": "stdout",
     "output_type": "stream",
     "text": [
      "MSE: 44.35196239423059\n",
      "MAE: 5.336948441151827\n",
      "MAPE: 0.16304113325539438\n"
     ]
    }
   ],
   "source": [
    "pred_naive = [y_train.mean()] * len(y_test)\n",
    "mse_naive, mae_naive, mape_naive = get_metrics_regression(y_test, pred_naive)"
   ]
  },
  {
   "cell_type": "markdown",
   "id": "fcaca919",
   "metadata": {},
   "source": [
    "Случайный лес"
   ]
  },
  {
   "cell_type": "code",
   "execution_count": 10,
   "id": "79592556",
   "metadata": {},
   "outputs": [],
   "source": [
    "def objective_forest(trial):\n",
    "    n_estimators = trial.suggest_int(\"n_estimators\", 200, 700)\n",
    "    max_features = trial.suggest_categorical(\"max_features\", ['auto', 'sqrt']) \n",
    "    min_samples_split = trial.suggest_int(\"min_samples_split\", 2, 10)\n",
    "    min_samples_leaf = trial.suggest_int(\"min_samples_leaf\", 1, 10)\n",
    "     \n",
    "    model = RandomForestRegressor( n_estimators = n_estimators, max_features = max_features, \n",
    "                                  min_samples_split = min_samples_split, min_samples_leaf = min_samples_leaf)\n",
    "    model.fit(X_train, y_train)\n",
    "    pred_val = model.predict(X_val)\n",
    "    score = np.abs(y_val - pred_val).mean()\n",
    "    \n",
    "    return score\n",
    "\n",
    "study = optuna.create_study(direction='minimize')\n",
    "study.optimize(objective_forest, n_trials=25)\n",
    "best_params_forest = study.best_params"
   ]
  },
  {
   "cell_type": "code",
   "execution_count": 11,
   "id": "045f4ccd",
   "metadata": {},
   "outputs": [
    {
     "name": "stdout",
     "output_type": "stream",
     "text": [
      "MSE: 26.135545392065303\n",
      "MAE: 3.9635018835969515\n",
      "MAPE: 0.12377878525500714\n"
     ]
    }
   ],
   "source": [
    "forest = RandomForestRegressor(**best_params_forest, random_state = 52)\n",
    "forest.fit(X_train, y_train)\n",
    "\n",
    "pred_forest = forest.predict(X_test)\n",
    "mse_forest, mae_forest, mape_forest = get_metrics_regression(y_test, pred_forest)"
   ]
  },
  {
   "cell_type": "markdown",
   "id": "ee361e04",
   "metadata": {},
   "source": [
    "Бустинг"
   ]
  },
  {
   "cell_type": "code",
   "execution_count": 68,
   "id": "ab8f7fca",
   "metadata": {},
   "outputs": [
    {
     "name": "stdout",
     "output_type": "stream",
     "text": [
      "MSE: 24.03991859370434\n",
      "MAE: 3.7527251087733946\n",
      "MAPE: 0.11714325924770888\n"
     ]
    }
   ],
   "source": [
    "model_cat = CatBoostRegressor(bootstrap_type = 'MVS', n_estimators = 600, max_depth = 10, random_state = 52,\n",
    "                             mvs_reg = 20)\n",
    "model_cat.fit(X_train, y_train, verbose = False)\n",
    "\n",
    "pred_cat = model_cat.predict(X_test)\n",
    "mse_cat, mae_cat, mape_cat = get_metrics_regression(y_test, pred_cat)"
   ]
  },
  {
   "cell_type": "markdown",
   "id": "2a057f8e",
   "metadata": {},
   "source": [
    "### Классификация"
   ]
  },
  {
   "cell_type": "markdown",
   "id": "0f20a616",
   "metadata": {},
   "source": [
    "Делим целевую переменную на 2 класса: успешный и неуспешный"
   ]
  },
  {
   "cell_type": "code",
   "execution_count": 220,
   "id": "9db7bf83",
   "metadata": {},
   "outputs": [
    {
     "data": {
      "text/plain": [
       "''"
      ]
     },
     "execution_count": 220,
     "metadata": {},
     "output_type": "execute_result"
    },
    {
     "data": {
      "image/png": "[encoded data removed]",
      "text/plain": [
       "<Figure size 864x576 with 1 Axes>"
      ]
     },
     "metadata": {},
     "output_type": "display_data"
    }
   ],
   "source": [
    "sns.set(font_scale = 1.2)\n",
    "plt.figure(figsize = (12, 8))\n",
    "\n",
    "plt.title('Распределение целевой переменной')\n",
    "plt.xlabel('Значение')\n",
    "plt.ylabel('Число наблюдений')\n",
    "plt.axvline(x = df['target'].mean() + df['target'].std(), color = 'red', label = 'Порог успешности товара')\n",
    "plt.legend()\n",
    "sns.histplot(df['target'])\n",
    ";"
   ]
  },
  {
   "cell_type": "code",
   "execution_count": 163,
   "id": "abb70a1b",
   "metadata": {},
   "outputs": [],
   "source": [
    "# преобразуем переменные\n",
    "bound = 41\n",
    "y_train = (y_train > 41) * 1\n",
    "y_val = (y_val > 41) * 1\n",
    "y_test = (y_test > 41) * 1"
   ]
  },
  {
   "cell_type": "code",
   "execution_count": 164,
   "id": "aa8bdfac",
   "metadata": {},
   "outputs": [],
   "source": [
    "def get_metrics_class(true, pred, pred_proba):\n",
    "    acc = accuracy_score(true, pred)\n",
    "    roc_auc = roc_auc_score(true, pred_proba)\n",
    "    auc_pr = average_precision_score(true, pred_proba)\n",
    "    \n",
    "    print(f'Accuracy: {acc}')\n",
    "    print(f'ROC-AUC: {roc_auc}')\n",
    "    print(f'AUC-PR: {auc_pr}')\n",
    "    return acc, roc_auc, auc_pr"
   ]
  },
  {
   "cell_type": "code",
   "execution_count": 201,
   "id": "bf024848",
   "metadata": {},
   "outputs": [
    {
     "name": "stdout",
     "output_type": "stream",
     "text": [
      "Доля самого популярного класса: 0.8222003929273085\n"
     ]
    }
   ],
   "source": [
    "print(f'Доля самого популярного класса: {1 - y_test.mean()}')"
   ]
  },
  {
   "cell_type": "code",
   "execution_count": 200,
   "id": "5929b757",
   "metadata": {},
   "outputs": [
    {
     "name": "stdout",
     "output_type": "stream",
     "text": [
      "Accuracy: 0.9017681728880157\n",
      "ROC-AUC: 0.9115824075724273\n",
      "AUC-PR: 0.7782485449324088\n"
     ]
    }
   ],
   "source": [
    "model_cat = CatBoostClassifier(random_state = 52, bootstrap_type = 'MVS', n_estimators = 600, \n",
    "                              max_depth = 10, rsm = 0.8)\n",
    "model_cat.fit(X_train, y_train, verbose = False)\n",
    "\n",
    "pred_cat_proba = model_cat.predict_proba(X_test)[:, 1]\n",
    "pred_cat = 1 * (pred_cat_proba > 0.5)\n",
    "\n",
    "acc, roc_auc, auc_pr = get_metrics_class(y_test, pred_cat, pred_cat_proba)"
   ]
  },
  {
   "cell_type": "code",
   "execution_count": 219,
   "id": "52756e9c",
   "metadata": {},
   "outputs": [
    {
     "data": {
      "text/plain": [
       "''"
      ]
     },
     "execution_count": 219,
     "metadata": {},
     "output_type": "execute_result"
    },
    {
     "data": {
      "image/png": "[encoded data removed]",
      "text/plain": [
       "<Figure size 864x576 with 1 Axes>"
      ]
     },
     "metadata": {},
     "output_type": "display_data"
    }
   ],
   "source": [
    "most_important = model_cat.feature_importances_.argsort()[-5:]\n",
    "var_imp = model_cat.feature_importances_[most_important]\n",
    "var_names = X_train.columns[most_important]\n",
    "\n",
    "plt.figure(figsize = (12, 8))\n",
    "plt.title('Важность признаков в модели классификации')\n",
    "plt.xlabel('Название признака')\n",
    "plt.ylabel('Значение важности')\n",
    "sns.barplot(x = list(var_names.values), y = var_imp)\n",
    ";"
   ]
  },
  {
   "cell_type": "code",
   "execution_count": null,
   "id": "82f1d43c",
   "metadata": {},
   "outputs": [],
   "source": []
  }
 ],
 "metadata": {
  "kernelspec": {
   "display_name": "Python 3 (ipykernel)",
   "language": "python",
   "name": "python3"
  },
  "language_info": {
   "codemirror_mode": {
    "name": "ipython",
    "version": 3
   },
   "file_extension": ".py",
   "mimetype": "text/x-python",
   "name": "python",
   "nbconvert_exporter": "python",
   "pygments_lexer": "ipython3",
   "version": "3.9.12"
  }
 },
 "nbformat": 4,
 "nbformat_minor": 5
}
